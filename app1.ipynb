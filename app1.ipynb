{
 "cells": [
  {
   "cell_type": "code",
   "execution_count": null,
   "metadata": {},
   "outputs": [],
   "source": [
    "\n",
    "from sklearn.model_selection import train_test_split\n",
    "from sklearn.tree import DecisionTreeClassifier\n",
    "import pandas as pd\n",
    "import streamlit as st\n"
   ]
  },
  {
   "cell_type": "code",
   "execution_count": null,
   "metadata": {},
   "outputs": [],
   "source": [
    "# Sample dataset provided as a dictionary\n",
    "data = {\n",
    "    'Age': [25, 45, 35, 50, 23, 34, 42, 25, 23, 54],\n",
    "    'StressLevel': [3, 8, 5, 9, 2, 4, 7, 3, 2, 8],\n",
    "    'SleepHours': [7, 5, 6, 4, 8, 7, 5, 8, 7, 5],\n",
    "    'ExerciseHours': [2, 1, 3, 0, 4, 2, 1, 3, 2, 1],\n",
    "    'WorkHours': [8, 10, 9, 12, 7, 8, 10, 9, 8, 11],\n",
    "    'SocialSupport': [3, 2, 4, 1, 5, 3, 2, 4, 3, 2],\n",
    "    'FinancialStress': [2, 4, 3, 5, 1, 3, 4, 2, 3, 4],\n",
    "    'DietQuality': [4, 3, 5, 2, 5, 4, 3, 4, 4, 3],\n",
    "    'AlcoholConsumption': [1, 3, 2, 4, 1, 2, 3, 1, 2, 3],\n",
    "    'SmokingHabit': [0, 1, 0, 1, 0, 0, 1, 0, 0, 1],\n",
    "    'MentalHealthIssue': [0, 1, 0, 1, 0, 0, 1, 0, 0, 1]\n",
    "}"
   ]
  },
  {
   "cell_type": "code",
   "execution_count": null,
   "metadata": {},
   "outputs": [],
   "source": [
    "\n",
    "# Convert the dictionary into a pandas DataFrame\n",
    "df = pd.DataFrame(data)\n",
    "\n",
    "st.title(\"Dataset\")\n",
    "df\n"
   ]
  },
  {
   "cell_type": "code",
   "execution_count": null,
   "metadata": {},
   "outputs": [],
   "source": [
    "# Split the dataset into features and target variable\n",
    "X = df.drop('MentalHealthIssue', axis=1)\n",
    "y = df['MentalHealthIssue']\n"
   ]
  },
  {
   "cell_type": "code",
   "execution_count": null,
   "metadata": {},
   "outputs": [],
   "source": [
    "\n",
    "# Create a decision tree classifier and fit it to the training data\n",
    "clf = DecisionTreeClassifier()\n",
    "clf.fit(X_train, y_train)\n"
   ]
  },
  {
   "cell_type": "code",
   "execution_count": null,
   "metadata": {},
   "outputs": [],
   "source": [
    "# Function for the login page\n",
    "def login():\n",
    "    st.title('Login')\n",
    "username = st.text_input(\"Username\")\n",
    "password = st.text_input(\"Password\", type=\"password\")\n",
    "if st.button(\"Login\"):\n",
    "        if username == 'admin' and password == 'admin':\n",
    "            st.session_state['loggedIn'] = True\n",
    "        else:\n",
    "            st.error(\"Invalid username or password\")\n"
   ]
  },
  {
   "cell_type": "code",
   "execution_count": null,
   "metadata": {},
   "outputs": [],
   "source": [
    "# Function for the main page\n",
    "def main_page():\n",
    "    st.title('Mental Health Predictor')"
   ]
  },
  {
   "cell_type": "code",
   "execution_count": null,
   "metadata": {},
   "outputs": [],
   "source": [
    "# Sidebar for user input\n",
    "st.subheader('User Input Features')\n",
    "age = st.number_input('Age', min_value=0, max_value=100, value=25)\n",
    "stress_level = st.slider('Stress Level', min_value=0, max_value=10, value=5)\n",
    "sleep_hours = st.slider('Sleep Hours', min_value=0, max_value=24, value=8)\n",
    "exercise_hours = st.slider('Exercise Hours per Week', min_value=0, max_value=168, value=3)\n",
    "work_hours = st.slider('Work Hours per Week', min_value=0, max_value=168, value=40)\n",
    "social_support = st.slider('Social Support (1-10)', min_value=1, max_value=10, value=5)\n",
    "financial_stress = st.slider('Financial Stress (1-10)', min_value=1, max_value=10, value=5)\n",
    "diet_quality = st.slider('Diet Quality (1-10)', min_value=1, max_value=10, value=5)\n",
    "alcohol_consumption = st.slider('Alcohol Consumption (drinks per week)', min_value=0, max_value=100, value=2)\n",
    "smoking_habit = st.selectbox('Smoking Habit', options=[0, 1], format_func=lambda x: 'Non-Smoker' if x == 0 else 'Smoker')\n"
   ]
  },
  {
   "cell_type": "code",
   "execution_count": null,
   "metadata": {},
   "outputs": [],
   "source": [
    "# Predict function\n",
    "def predict_mental_health(age, stress_level, sleep_hours, exercise_hours, work_hours,\n",
    "                          social_support, financial_stress, diet_quality, alcohol_consumption, smoking_habit):\n",
    "        prediction = clf.predict([[age, stress_level, sleep_hours, exercise_hours, work_hours,\n",
    "                                   social_support, financial_stress, diet_quality, alcohol_consumption, smoking_habit]])\n",
    "        return 'Mental Health Issue' if prediction[0] == 1 else 'No Mental Health Issue'"
   ]
  },
  {
   "cell_type": "code",
   "execution_count": null,
   "metadata": {},
   "outputs": [],
   "source": [
    "# User input features\n",
    "st.subheader('User Input Features')\n",
    "st.write('Age :', age)\n",
    "st.write('Stress Level:', stress_level)\n",
    "st.write('Sleep Hours:', sleep_hours)\n",
    "st.write('Exercise Hours per Week:', exercise_hours)\n",
    "st.write('Work Hours per Week:', work_hours)\n",
    "st.write('Social Support:', social_support)\n",
    "st.write('Financial Stress:', financial_stress)\n",
    "st.write('Diet Quality:', diet_quality)\n",
    "st.write('Alcohol Consumption:', alcohol_consumption)\n",
    "st.write('Smoking Habit:', 'Non-Smoker' if smoking_habit == 0 else 'Smoker')\n"
   ]
  },
  {
   "cell_type": "code",
   "execution_count": null,
   "metadata": {},
   "outputs": [],
   "source": [
    "# Predict and display result\n",
    "if st.button('Predict'):\n",
    "        result = predict_mental_health(age, stress_level, sleep_hours, exercise_hours, work_hours, social_support, financial_stress, diet_quality, alcohol_consumption, smoking_habit)\n",
    "        st.subheader('Prediction')\n",
    "        st.write(result)\n"
   ]
  },
  {
   "cell_type": "code",
   "execution_count": null,
   "metadata": {},
   "outputs": [],
   "source": [
    "# Display the dataset\n",
    "st.subheader('Dataset')\n",
    "st.write(df)\n",
    "if 'loggedIn' not in st.session_state:\n",
    "    st.session_state['loggedIn'] = False\n",
    "\n"
   ]
  },
  {
   "cell_type": "code",
   "execution_count": null,
   "metadata": {},
   "outputs": [],
   "source": [
    "\n",
    "if st.session_state['loggedIn']:\n",
    "    main_page()\n",
    "else:\n",
    "    login()\n"
   ]
  },
  {
   "cell_type": "code",
   "execution_count": null,
   "metadata": {},
   "outputs": [],
   "source": []
  }
 ],
 "metadata": {
  "language_info": {
   "name": "python"
  }
 },
 "nbformat": 4,
 "nbformat_minor": 2
}
